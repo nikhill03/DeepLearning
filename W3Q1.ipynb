{
 "cells": [
  {
   "cell_type": "code",
   "execution_count": null,
   "id": "36392ff8",
   "metadata": {},
   "outputs": [],
   "source": [
    "import torch\n",
    "import torch.nn as nn\n",
    "import torch.optim as optim\n",
    "import torchvision\n",
    "import torchvision.transforms as transforms\n",
    "import torch.nn.functional as F"
   ]
  },
  {
   "cell_type": "code",
   "execution_count": null,
   "id": "446a80b0",
   "metadata": {},
   "outputs": [
    {
     "name": "stdout",
     "output_type": "stream",
     "text": [
      "Downloading https://www.cs.toronto.edu/~kriz/cifar-10-python.tar.gz to ./data/cifar-10-python.tar.gz\n"
     ]
    },
    {
     "name": "stderr",
     "output_type": "stream",
     "text": [
      "100%|██████████| 170498071/170498071 [00:31<00:00, 5444188.81it/s] \n"
     ]
    },
    {
     "name": "stdout",
     "output_type": "stream",
     "text": [
      "Extracting ./data/cifar-10-python.tar.gz to ./data\n",
      "Files already downloaded and verified\n"
     ]
    }
   ],
   "source": [
    "transform = transforms.Compose([\n",
    "    transforms.ToTensor(),\n",
    "    transforms.Normalize((0.5, 0.5, 0.5), (0.5, 0.5, 0.5))\n",
    "])\n",
    "\n",
    "trainset = torchvision.datasets.CIFAR10(root='./data', train=True, download=True, transform=transform)\n",
    "trainloader = torch.utils.data.DataLoader(trainset, batch_size=64, shuffle=True)\n",
    "\n",
    "testset = torchvision.datasets.CIFAR10(root='./data', train=False, download=True, transform=transform)\n",
    "testloader = torch.utils.data.DataLoader(testset, batch_size=64, shuffle=False)"
   ]
  },
  {
   "cell_type": "code",
   "execution_count": null,
   "id": "8c277c99",
   "metadata": {},
   "outputs": [],
   "source": [
    "class SimpleCNN(nn.Module):\n",
    "    def __init__(self):\n",
    "        super(SimpleCNN, self).__init__()\n",
    "        self.conv1 = nn.Conv2d(3, 32, 3, padding=1)\n",
    "        self.pool = nn.MaxPool2d(2, 2)\n",
    "        self.fc1 = nn.Linear(32 * 16 * 16, 128)\n",
    "        self.fc2 = nn.Linear(128, 10)\n",
    "\n",
    "    def forward(self, x):\n",
    "        x = self.pool(F.relu(self.conv1(x)))\n",
    "        x = x.view(-1, 32 * 16 * 16)\n",
    "        x = F.relu(self.fc1(x))\n",
    "        x = self.fc2(x)\n",
    "        return x\n",
    "\n",
    "net = SimpleCNN()"
   ]
  },
  {
   "cell_type": "code",
   "execution_count": null,
   "id": "01f3fc1a",
   "metadata": {},
   "outputs": [
    {
     "name": "stdout",
     "output_type": "stream",
     "text": [
      "[Epoch 1, Batch 100] loss: 1.847\n",
      "[Epoch 1, Batch 200] loss: 1.507\n",
      "[Epoch 1, Batch 300] loss: 1.378\n",
      "[Epoch 1, Batch 400] loss: 1.329\n",
      "[Epoch 1, Batch 500] loss: 1.272\n",
      "[Epoch 1, Batch 600] loss: 1.247\n",
      "[Epoch 1, Batch 700] loss: 1.232\n",
      "[Epoch 2, Batch 100] loss: 1.116\n",
      "[Epoch 2, Batch 200] loss: 1.081\n",
      "[Epoch 2, Batch 300] loss: 1.076\n",
      "[Epoch 2, Batch 400] loss: 1.066\n",
      "[Epoch 2, Batch 500] loss: 1.060\n",
      "[Epoch 2, Batch 600] loss: 1.024\n",
      "[Epoch 2, Batch 700] loss: 1.039\n",
      "[Epoch 3, Batch 100] loss: 0.909\n",
      "[Epoch 3, Batch 200] loss: 0.925\n",
      "[Epoch 3, Batch 300] loss: 0.902\n",
      "[Epoch 3, Batch 400] loss: 0.919\n",
      "[Epoch 3, Batch 500] loss: 0.911\n",
      "[Epoch 3, Batch 600] loss: 0.918\n",
      "[Epoch 3, Batch 700] loss: 0.908\n",
      "[Epoch 4, Batch 100] loss: 0.792\n",
      "[Epoch 4, Batch 200] loss: 0.787\n",
      "[Epoch 4, Batch 300] loss: 0.787\n",
      "[Epoch 4, Batch 400] loss: 0.809\n",
      "[Epoch 4, Batch 500] loss: 0.806\n",
      "[Epoch 4, Batch 600] loss: 0.804\n",
      "[Epoch 4, Batch 700] loss: 0.803\n",
      "[Epoch 5, Batch 100] loss: 0.693\n",
      "[Epoch 5, Batch 200] loss: 0.690\n",
      "[Epoch 5, Batch 300] loss: 0.701\n",
      "[Epoch 5, Batch 400] loss: 0.703\n",
      "[Epoch 5, Batch 500] loss: 0.716\n",
      "[Epoch 5, Batch 600] loss: 0.723\n",
      "[Epoch 5, Batch 700] loss: 0.746\n",
      "[Epoch 6, Batch 100] loss: 0.571\n",
      "[Epoch 6, Batch 200] loss: 0.615\n",
      "[Epoch 6, Batch 300] loss: 0.641\n",
      "[Epoch 6, Batch 400] loss: 0.623\n",
      "[Epoch 6, Batch 500] loss: 0.644\n",
      "[Epoch 6, Batch 600] loss: 0.663\n",
      "[Epoch 6, Batch 700] loss: 0.655\n",
      "[Epoch 7, Batch 100] loss: 0.533\n",
      "[Epoch 7, Batch 200] loss: 0.510\n",
      "[Epoch 7, Batch 300] loss: 0.525\n",
      "[Epoch 7, Batch 400] loss: 0.564\n",
      "[Epoch 7, Batch 500] loss: 0.563\n",
      "[Epoch 7, Batch 600] loss: 0.581\n",
      "[Epoch 7, Batch 700] loss: 0.570\n",
      "[Epoch 8, Batch 100] loss: 0.440\n",
      "[Epoch 8, Batch 200] loss: 0.463\n",
      "[Epoch 8, Batch 300] loss: 0.490\n",
      "[Epoch 8, Batch 400] loss: 0.454\n",
      "[Epoch 8, Batch 500] loss: 0.493\n",
      "[Epoch 8, Batch 600] loss: 0.480\n",
      "[Epoch 8, Batch 700] loss: 0.518\n",
      "[Epoch 9, Batch 100] loss: 0.377\n",
      "[Epoch 9, Batch 200] loss: 0.382\n",
      "[Epoch 9, Batch 300] loss: 0.409\n",
      "[Epoch 9, Batch 400] loss: 0.413\n",
      "[Epoch 9, Batch 500] loss: 0.427\n",
      "[Epoch 9, Batch 600] loss: 0.433\n",
      "[Epoch 9, Batch 700] loss: 0.448\n",
      "[Epoch 10, Batch 100] loss: 0.324\n",
      "[Epoch 10, Batch 200] loss: 0.326\n",
      "[Epoch 10, Batch 300] loss: 0.342\n",
      "[Epoch 10, Batch 400] loss: 0.347\n",
      "[Epoch 10, Batch 500] loss: 0.357\n",
      "[Epoch 10, Batch 600] loss: 0.376\n",
      "[Epoch 10, Batch 700] loss: 0.382\n",
      "Finished Training\n"
     ]
    }
   ],
   "source": [
    "criterion = nn.CrossEntropyLoss()\n",
    "optimizer = optim.Adam(net.parameters(), lr=0.001)\n",
    "\n",
    "# Train the model\n",
    "for epoch in range(10):\n",
    "    running_loss = 0.0\n",
    "    for i, data in enumerate(trainloader, 0):\n",
    "        inputs, labels = data\n",
    "        optimizer.zero_grad()\n",
    "        outputs = net(inputs)\n",
    "        loss = criterion(outputs, labels)\n",
    "        loss.backward()\n",
    "        optimizer.step()\n",
    "        running_loss += loss.item()\n",
    "        if i % 100 == 99:  # Print every 100 mini-batches\n",
    "            print(f'[Epoch {epoch + 1}, Batch {i + 1}] loss: {running_loss / 100:.3f}')\n",
    "            running_loss = 0.0\n",
    "\n",
    "print('Finished Training')"
   ]
  },
  {
   "cell_type": "code",
   "execution_count": null,
   "id": "55ef4ac0",
   "metadata": {},
   "outputs": [
    {
     "name": "stdout",
     "output_type": "stream",
     "text": [
      "Test accuracy: 67.54%\n"
     ]
    }
   ],
   "source": [
    "correct = 0\n",
    "total = 0\n",
    "with torch.no_grad():\n",
    "    for data in testloader:\n",
    "        images, labels = data\n",
    "        outputs = net(images)\n",
    "        _, predicted = torch.max(outputs, 1)\n",
    "        total += labels.size(0)\n",
    "        correct += (predicted == labels).sum().item()\n",
    "\n",
    "print(f'Test accuracy: {100 * correct / total:.2f}%')"
   ]
  }
 ],
 "metadata": {
  "kernelspec": {
   "display_name": "Python 3 (ipykernel)",
   "language": "python",
   "name": "python3"
  },
  "language_info": {
   "codemirror_mode": {
    "name": "ipython",
    "version": 3
   },
   "file_extension": ".py",
   "mimetype": "text/x-python",
   "name": "python",
   "nbconvert_exporter": "python",
   "pygments_lexer": "ipython3",
   "version": "3.10.12"
  }
 },
 "nbformat": 4,
 "nbformat_minor": 5
}
