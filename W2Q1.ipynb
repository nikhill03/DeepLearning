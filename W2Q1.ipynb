{
 "cells": [
  {
   "cell_type": "code",
   "execution_count": 11,
   "id": "fbe10e33",
   "metadata": {},
   "outputs": [
    {
     "name": "stdout",
     "output_type": "stream",
     "text": [
      "Accuracy on Adult Census Income dataset: 0.7807349779916061\n"
     ]
    }
   ],
   "source": [
    "import pandas as pd\n",
    "from sklearn.model_selection import train_test_split\n",
    "from sklearn.preprocessing import LabelEncoder\n",
    "from sklearn.neural_network import MLPClassifier\n",
    "\n",
    "adult_data = pd.read_csv(\"adult.csv\")\n",
    "\n",
    "adult_data = adult_data.dropna()\n",
    "\n",
    "label_encoder = LabelEncoder()\n",
    "for column in adult_data.columns:\n",
    "    if adult_data[column].dtype == 'object':\n",
    "        adult_data[column] = label_encoder.fit_transform(adult_data[column])\n",
    "\n",
    "X = adult_data.drop('income', axis=1)\n",
    "y = adult_data['income']\n",
    "\n",
    "X_train, X_test, y_train, y_test = train_test_split(X, y, test_size=0.3, random_state=42)\n",
    "\n",
    "mlp_adult = MLPClassifier(hidden_layer_sizes=(100, 50), activation='relu', random_state=42)\n",
    "mlp_adult.fit(X_train, y_train)\n",
    "\n",
    "accuracy = mlp_adult.score(X_test, y_test)\n",
    "print(\"Accuracy on Adult Census Income dataset:\", accuracy)\n"
   ]
  },
  {
   "cell_type": "code",
   "execution_count": 12,
   "id": "545078b4",
   "metadata": {},
   "outputs": [
    {
     "name": "stdout",
     "output_type": "stream",
     "text": [
      "Accuracy on Indian Liver Patient Records dataset: 0.6494252873563219\n"
     ]
    }
   ],
   "source": [
    "\n",
    "liver_data = pd.read_csv(\"indian_liver_patient.csv\")\n",
    "\n",
    "liver_data = liver_data.dropna()\n",
    "\n",
    "liver_data['Gender'] = liver_data['Gender'].map({'Male': 0, 'Female': 1})\n",
    "\n",
    "X = liver_data.drop('Dataset', axis=1)\n",
    "y = liver_data['Dataset']\n",
    "\n",
    "X_train, X_test, y_train, y_test = train_test_split(X, y, test_size=0.3, random_state=42)\n",
    "\n",
    "mlp_liver = MLPClassifier(hidden_layer_sizes=(100, 50), activation='relu', random_state=42)\n",
    "mlp_liver.fit(X_train, y_train)\n",
    "\n",
    "accuracy = mlp_liver.score(X_test, y_test)\n",
    "print(\"Accuracy on Indian Liver Patient Records dataset:\", accuracy)\n"
   ]
  },
  {
   "cell_type": "code",
   "execution_count": 13,
   "id": "9600eab9",
   "metadata": {},
   "outputs": [
    {
     "name": "stdout",
     "output_type": "stream",
     "text": [
      "Accuracy on Titanic dataset: 0.7523364485981309\n"
     ]
    }
   ],
   "source": [
    "\n",
    "titanic_data = pd.read_csv(\"train.csv\")\n",
    "\n",
    "titanic_data = titanic_data.drop(['PassengerId', 'Name', 'Ticket', 'Cabin'], axis=1)\n",
    "\n",
    "titanic_data = titanic_data.dropna()\n",
    "\n",
    "titanic_data['Sex'] = titanic_data['Sex'].map({'male': 0, 'female': 1})\n",
    "titanic_data['Embarked'] = titanic_data['Embarked'].map({'C': 0, 'Q': 1, 'S': 2})\n",
    "\n",
    "X = titanic_data.drop('Survived', axis=1)\n",
    "y = titanic_data['Survived']\n",
    "\n",
    "X_train, X_test, y_train, y_test = train_test_split(X, y, test_size=0.3, random_state=42)\n",
    "\n",
    "mlp_titanic = MLPClassifier(hidden_layer_sizes=(100, 50), activation='relu', random_state=42)\n",
    "mlp_titanic.fit(X_train, y_train)\n",
    "\n",
    "accuracy = mlp_titanic.score(X_test, y_test)\n",
    "print(\"Accuracy on Titanic dataset:\", accuracy)\n",
    "\n"
   ]
  }
 ],
 "metadata": {
  "kernelspec": {
   "display_name": "Python 3 (ipykernel)",
   "language": "python",
   "name": "python3"
  },
  "language_info": {
   "codemirror_mode": {
    "name": "ipython",
    "version": 3
   },
   "file_extension": ".py",
   "mimetype": "text/x-python",
   "name": "python",
   "nbconvert_exporter": "python",
   "pygments_lexer": "ipython3",
   "version": "3.10.12"
  }
 },
 "nbformat": 4,
 "nbformat_minor": 5
}
